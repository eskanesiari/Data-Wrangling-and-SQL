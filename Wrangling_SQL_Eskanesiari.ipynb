{
  "nbformat": 4,
  "nbformat_minor": 0,
  "metadata": {
    "colab": {
      "provenance": []
    },
    "kernelspec": {
      "name": "python3",
      "display_name": "Python 3"
    },
    "language_info": {
      "name": "python"
    }
  },
  "cells": [
    {
      "cell_type": "code",
      "execution_count": 108,
      "metadata": {
        "id": "kSI5A7XdJqjm"
      },
      "outputs": [],
      "source": [
        "import sqlite3\n",
        "import pandas as pd"
      ]
    },
    {
      "cell_type": "code",
      "source": [
        "# creating file path\n",
        "dbfile = 'olist.db'\n",
        "# Create a SQL connection to our SQLite database\n",
        "con = sqlite3.connect(dbfile)\n",
        "\n",
        "# creating cursor\n",
        "cur = con.cursor()\n",
        "\n",
        "# reading all table names\n",
        "data = [a for a in cur.execute(\"SELECT name FROM sqlite_master WHERE type = 'table'\")]\n",
        "# here is you table list\n",
        "print(data)"
      ],
      "metadata": {
        "colab": {
          "base_uri": "https://localhost:8080/"
        },
        "id": "MhGCfhTiJ9Sd",
        "outputId": "c5703153-ba04-4cc3-8fa7-2e8826901dd2"
      },
      "execution_count": 109,
      "outputs": [
        {
          "output_type": "stream",
          "name": "stdout",
          "text": [
            "[('olist_order_customer_dataset',), ('olist_order_dataset',), ('olist_order_reviews_dataset',), ('olist_order_payments_dataset',), ('olist_order_items_dataset',), ('olist_products_dataset',), ('olist_sellers_dataset',), ('olist_geolocation_dataset',), ('product_category_name_translation',)]\n"
          ]
        }
      ]
    },
    {
      "cell_type": "code",
      "source": [
        "data_daerah = pd.read_sql_query('SELECT * FROM olist_geolocation_dataset', con)\n",
        "data_cust = pd.read_sql_query('SELECT * FROM olist_order_customer_dataset', con)\n",
        "data_order = pd.read_sql_query('SELECT * FROM olist_order_dataset', con)\n",
        "data_bayar = pd.read_sql_query('SELECT * FROM olist_order_payments_dataset', con)\n",
        "data_item = pd.read_sql_query('SELECT * FROM olist_order_items_dataset', con)\n",
        "data_review = pd.read_sql_query('SELECT * FROM olist_order_reviews_dataset', con)\n",
        "data_produk = pd.read_sql_query('SELECT * FROM olist_products_dataset', con)\n",
        "data_penjual = pd.read_sql_query('SELECT * FROM olist_sellers_dataset', con)\n",
        "data_terjemah = pd.read_sql_query('SELECT * FROM product_category_name_translation', con)"
      ],
      "metadata": {
        "id": "9xCataOJKE_K"
      },
      "execution_count": 110,
      "outputs": []
    },
    {
      "cell_type": "code",
      "source": [
        "import pandas as pd\n",
        "import matplotlib.pyplot as plt\n",
        "import seaborn as sns\n",
        "import numpy as np"
      ],
      "metadata": {
        "id": "6e7Bz5nPKIog"
      },
      "execution_count": 111,
      "outputs": []
    },
    {
      "cell_type": "code",
      "source": [
        "data1 = pd.read_csv('data1.csv') #hasil objective 1\n",
        "data2 = pd.read_csv('data2.csv') #hasil objective 2\n",
        "data3 = pd.read_csv('data3.csv') #hasil objective 3"
      ],
      "metadata": {
        "id": "zZ4XiEx4KJRZ"
      },
      "execution_count": 112,
      "outputs": []
    },
    {
      "cell_type": "code",
      "source": [
        "data1"
      ],
      "metadata": {
        "colab": {
          "base_uri": "https://localhost:8080/",
          "height": 423
        },
        "id": "_Nv7vOt7RUhk",
        "outputId": "93d8de67-7781-40e8-8d53-3d41e8852604"
      },
      "execution_count": 113,
      "outputs": [
        {
          "output_type": "execute_result",
          "data": {
            "text/plain": [
              "                 product_name  jumlah_pembelian\n",
              "0              bed_bath_table             13665\n",
              "1             furniture_decor             11540\n",
              "2               health_beauty             11081\n",
              "3              sports_leisure              9932\n",
              "4       computers_accessories              9874\n",
              "..                        ...               ...\n",
              "67      arts_and_craftmanship                26\n",
              "68                 la_cuisine                16\n",
              "69          cds_dvds_musicals                16\n",
              "70  fashion_childrens_clothes                 8\n",
              "71      security_and_services                 2\n",
              "\n",
              "[72 rows x 2 columns]"
            ],
            "text/html": [
              "\n",
              "  <div id=\"df-c4f28492-09e3-4406-bbbf-7c2225abf1aa\">\n",
              "    <div class=\"colab-df-container\">\n",
              "      <div>\n",
              "<style scoped>\n",
              "    .dataframe tbody tr th:only-of-type {\n",
              "        vertical-align: middle;\n",
              "    }\n",
              "\n",
              "    .dataframe tbody tr th {\n",
              "        vertical-align: top;\n",
              "    }\n",
              "\n",
              "    .dataframe thead th {\n",
              "        text-align: right;\n",
              "    }\n",
              "</style>\n",
              "<table border=\"1\" class=\"dataframe\">\n",
              "  <thead>\n",
              "    <tr style=\"text-align: right;\">\n",
              "      <th></th>\n",
              "      <th>product_name</th>\n",
              "      <th>jumlah_pembelian</th>\n",
              "    </tr>\n",
              "  </thead>\n",
              "  <tbody>\n",
              "    <tr>\n",
              "      <th>0</th>\n",
              "      <td>bed_bath_table</td>\n",
              "      <td>13665</td>\n",
              "    </tr>\n",
              "    <tr>\n",
              "      <th>1</th>\n",
              "      <td>furniture_decor</td>\n",
              "      <td>11540</td>\n",
              "    </tr>\n",
              "    <tr>\n",
              "      <th>2</th>\n",
              "      <td>health_beauty</td>\n",
              "      <td>11081</td>\n",
              "    </tr>\n",
              "    <tr>\n",
              "      <th>3</th>\n",
              "      <td>sports_leisure</td>\n",
              "      <td>9932</td>\n",
              "    </tr>\n",
              "    <tr>\n",
              "      <th>4</th>\n",
              "      <td>computers_accessories</td>\n",
              "      <td>9874</td>\n",
              "    </tr>\n",
              "    <tr>\n",
              "      <th>...</th>\n",
              "      <td>...</td>\n",
              "      <td>...</td>\n",
              "    </tr>\n",
              "    <tr>\n",
              "      <th>67</th>\n",
              "      <td>arts_and_craftmanship</td>\n",
              "      <td>26</td>\n",
              "    </tr>\n",
              "    <tr>\n",
              "      <th>68</th>\n",
              "      <td>la_cuisine</td>\n",
              "      <td>16</td>\n",
              "    </tr>\n",
              "    <tr>\n",
              "      <th>69</th>\n",
              "      <td>cds_dvds_musicals</td>\n",
              "      <td>16</td>\n",
              "    </tr>\n",
              "    <tr>\n",
              "      <th>70</th>\n",
              "      <td>fashion_childrens_clothes</td>\n",
              "      <td>8</td>\n",
              "    </tr>\n",
              "    <tr>\n",
              "      <th>71</th>\n",
              "      <td>security_and_services</td>\n",
              "      <td>2</td>\n",
              "    </tr>\n",
              "  </tbody>\n",
              "</table>\n",
              "<p>72 rows × 2 columns</p>\n",
              "</div>\n",
              "      <button class=\"colab-df-convert\" onclick=\"convertToInteractive('df-c4f28492-09e3-4406-bbbf-7c2225abf1aa')\"\n",
              "              title=\"Convert this dataframe to an interactive table.\"\n",
              "              style=\"display:none;\">\n",
              "        \n",
              "  <svg xmlns=\"http://www.w3.org/2000/svg\" height=\"24px\"viewBox=\"0 0 24 24\"\n",
              "       width=\"24px\">\n",
              "    <path d=\"M0 0h24v24H0V0z\" fill=\"none\"/>\n",
              "    <path d=\"M18.56 5.44l.94 2.06.94-2.06 2.06-.94-2.06-.94-.94-2.06-.94 2.06-2.06.94zm-11 1L8.5 8.5l.94-2.06 2.06-.94-2.06-.94L8.5 2.5l-.94 2.06-2.06.94zm10 10l.94 2.06.94-2.06 2.06-.94-2.06-.94-.94-2.06-.94 2.06-2.06.94z\"/><path d=\"M17.41 7.96l-1.37-1.37c-.4-.4-.92-.59-1.43-.59-.52 0-1.04.2-1.43.59L10.3 9.45l-7.72 7.72c-.78.78-.78 2.05 0 2.83L4 21.41c.39.39.9.59 1.41.59.51 0 1.02-.2 1.41-.59l7.78-7.78 2.81-2.81c.8-.78.8-2.07 0-2.86zM5.41 20L4 18.59l7.72-7.72 1.47 1.35L5.41 20z\"/>\n",
              "  </svg>\n",
              "      </button>\n",
              "      \n",
              "  <style>\n",
              "    .colab-df-container {\n",
              "      display:flex;\n",
              "      flex-wrap:wrap;\n",
              "      gap: 12px;\n",
              "    }\n",
              "\n",
              "    .colab-df-convert {\n",
              "      background-color: #E8F0FE;\n",
              "      border: none;\n",
              "      border-radius: 50%;\n",
              "      cursor: pointer;\n",
              "      display: none;\n",
              "      fill: #1967D2;\n",
              "      height: 32px;\n",
              "      padding: 0 0 0 0;\n",
              "      width: 32px;\n",
              "    }\n",
              "\n",
              "    .colab-df-convert:hover {\n",
              "      background-color: #E2EBFA;\n",
              "      box-shadow: 0px 1px 2px rgba(60, 64, 67, 0.3), 0px 1px 3px 1px rgba(60, 64, 67, 0.15);\n",
              "      fill: #174EA6;\n",
              "    }\n",
              "\n",
              "    [theme=dark] .colab-df-convert {\n",
              "      background-color: #3B4455;\n",
              "      fill: #D2E3FC;\n",
              "    }\n",
              "\n",
              "    [theme=dark] .colab-df-convert:hover {\n",
              "      background-color: #434B5C;\n",
              "      box-shadow: 0px 1px 3px 1px rgba(0, 0, 0, 0.15);\n",
              "      filter: drop-shadow(0px 1px 2px rgba(0, 0, 0, 0.3));\n",
              "      fill: #FFFFFF;\n",
              "    }\n",
              "  </style>\n",
              "\n",
              "      <script>\n",
              "        const buttonEl =\n",
              "          document.querySelector('#df-c4f28492-09e3-4406-bbbf-7c2225abf1aa button.colab-df-convert');\n",
              "        buttonEl.style.display =\n",
              "          google.colab.kernel.accessAllowed ? 'block' : 'none';\n",
              "\n",
              "        async function convertToInteractive(key) {\n",
              "          const element = document.querySelector('#df-c4f28492-09e3-4406-bbbf-7c2225abf1aa');\n",
              "          const dataTable =\n",
              "            await google.colab.kernel.invokeFunction('convertToInteractive',\n",
              "                                                     [key], {});\n",
              "          if (!dataTable) return;\n",
              "\n",
              "          const docLinkHtml = 'Like what you see? Visit the ' +\n",
              "            '<a target=\"_blank\" href=https://colab.research.google.com/notebooks/data_table.ipynb>data table notebook</a>'\n",
              "            + ' to learn more about interactive tables.';\n",
              "          element.innerHTML = '';\n",
              "          dataTable['output_type'] = 'display_data';\n",
              "          await google.colab.output.renderOutput(dataTable, element);\n",
              "          const docLink = document.createElement('div');\n",
              "          docLink.innerHTML = docLinkHtml;\n",
              "          element.appendChild(docLink);\n",
              "        }\n",
              "      </script>\n",
              "    </div>\n",
              "  </div>\n",
              "  "
            ]
          },
          "metadata": {},
          "execution_count": 113
        }
      ]
    },
    {
      "cell_type": "code",
      "source": [
        "data2"
      ],
      "metadata": {
        "colab": {
          "base_uri": "https://localhost:8080/",
          "height": 423
        },
        "id": "vg744FUqRXyx",
        "outputId": "4447ea44-a10e-4bf3-d833-b74bb9e4c414"
      },
      "execution_count": 114,
      "outputs": [
        {
          "output_type": "execute_result",
          "data": {
            "text/plain": [
              "      customer_city           product_name  jumlah_pembelian\n",
              "0         sao paulo         bed_bath_table              2495\n",
              "1         sao paulo          health_beauty              2264\n",
              "2         sao paulo  computers_accessories              1762\n",
              "3         sao paulo        furniture_decor              1741\n",
              "4         sao paulo             housewares              1739\n",
              "...             ...                    ...               ...\n",
              "25702       ze doca           garden_tools                 1\n",
              "25703       ze doca    musical_instruments                 1\n",
              "25704       ze doca         sports_leisure                 1\n",
              "25705        zortea                    NaN                 1\n",
              "25706        zortea  computers_accessories                 1\n",
              "\n",
              "[25707 rows x 3 columns]"
            ],
            "text/html": [
              "\n",
              "  <div id=\"df-a2e4c23b-70c8-4ffd-b86d-17f6796e2c6d\">\n",
              "    <div class=\"colab-df-container\">\n",
              "      <div>\n",
              "<style scoped>\n",
              "    .dataframe tbody tr th:only-of-type {\n",
              "        vertical-align: middle;\n",
              "    }\n",
              "\n",
              "    .dataframe tbody tr th {\n",
              "        vertical-align: top;\n",
              "    }\n",
              "\n",
              "    .dataframe thead th {\n",
              "        text-align: right;\n",
              "    }\n",
              "</style>\n",
              "<table border=\"1\" class=\"dataframe\">\n",
              "  <thead>\n",
              "    <tr style=\"text-align: right;\">\n",
              "      <th></th>\n",
              "      <th>customer_city</th>\n",
              "      <th>product_name</th>\n",
              "      <th>jumlah_pembelian</th>\n",
              "    </tr>\n",
              "  </thead>\n",
              "  <tbody>\n",
              "    <tr>\n",
              "      <th>0</th>\n",
              "      <td>sao paulo</td>\n",
              "      <td>bed_bath_table</td>\n",
              "      <td>2495</td>\n",
              "    </tr>\n",
              "    <tr>\n",
              "      <th>1</th>\n",
              "      <td>sao paulo</td>\n",
              "      <td>health_beauty</td>\n",
              "      <td>2264</td>\n",
              "    </tr>\n",
              "    <tr>\n",
              "      <th>2</th>\n",
              "      <td>sao paulo</td>\n",
              "      <td>computers_accessories</td>\n",
              "      <td>1762</td>\n",
              "    </tr>\n",
              "    <tr>\n",
              "      <th>3</th>\n",
              "      <td>sao paulo</td>\n",
              "      <td>furniture_decor</td>\n",
              "      <td>1741</td>\n",
              "    </tr>\n",
              "    <tr>\n",
              "      <th>4</th>\n",
              "      <td>sao paulo</td>\n",
              "      <td>housewares</td>\n",
              "      <td>1739</td>\n",
              "    </tr>\n",
              "    <tr>\n",
              "      <th>...</th>\n",
              "      <td>...</td>\n",
              "      <td>...</td>\n",
              "      <td>...</td>\n",
              "    </tr>\n",
              "    <tr>\n",
              "      <th>25702</th>\n",
              "      <td>ze doca</td>\n",
              "      <td>garden_tools</td>\n",
              "      <td>1</td>\n",
              "    </tr>\n",
              "    <tr>\n",
              "      <th>25703</th>\n",
              "      <td>ze doca</td>\n",
              "      <td>musical_instruments</td>\n",
              "      <td>1</td>\n",
              "    </tr>\n",
              "    <tr>\n",
              "      <th>25704</th>\n",
              "      <td>ze doca</td>\n",
              "      <td>sports_leisure</td>\n",
              "      <td>1</td>\n",
              "    </tr>\n",
              "    <tr>\n",
              "      <th>25705</th>\n",
              "      <td>zortea</td>\n",
              "      <td>NaN</td>\n",
              "      <td>1</td>\n",
              "    </tr>\n",
              "    <tr>\n",
              "      <th>25706</th>\n",
              "      <td>zortea</td>\n",
              "      <td>computers_accessories</td>\n",
              "      <td>1</td>\n",
              "    </tr>\n",
              "  </tbody>\n",
              "</table>\n",
              "<p>25707 rows × 3 columns</p>\n",
              "</div>\n",
              "      <button class=\"colab-df-convert\" onclick=\"convertToInteractive('df-a2e4c23b-70c8-4ffd-b86d-17f6796e2c6d')\"\n",
              "              title=\"Convert this dataframe to an interactive table.\"\n",
              "              style=\"display:none;\">\n",
              "        \n",
              "  <svg xmlns=\"http://www.w3.org/2000/svg\" height=\"24px\"viewBox=\"0 0 24 24\"\n",
              "       width=\"24px\">\n",
              "    <path d=\"M0 0h24v24H0V0z\" fill=\"none\"/>\n",
              "    <path d=\"M18.56 5.44l.94 2.06.94-2.06 2.06-.94-2.06-.94-.94-2.06-.94 2.06-2.06.94zm-11 1L8.5 8.5l.94-2.06 2.06-.94-2.06-.94L8.5 2.5l-.94 2.06-2.06.94zm10 10l.94 2.06.94-2.06 2.06-.94-2.06-.94-.94-2.06-.94 2.06-2.06.94z\"/><path d=\"M17.41 7.96l-1.37-1.37c-.4-.4-.92-.59-1.43-.59-.52 0-1.04.2-1.43.59L10.3 9.45l-7.72 7.72c-.78.78-.78 2.05 0 2.83L4 21.41c.39.39.9.59 1.41.59.51 0 1.02-.2 1.41-.59l7.78-7.78 2.81-2.81c.8-.78.8-2.07 0-2.86zM5.41 20L4 18.59l7.72-7.72 1.47 1.35L5.41 20z\"/>\n",
              "  </svg>\n",
              "      </button>\n",
              "      \n",
              "  <style>\n",
              "    .colab-df-container {\n",
              "      display:flex;\n",
              "      flex-wrap:wrap;\n",
              "      gap: 12px;\n",
              "    }\n",
              "\n",
              "    .colab-df-convert {\n",
              "      background-color: #E8F0FE;\n",
              "      border: none;\n",
              "      border-radius: 50%;\n",
              "      cursor: pointer;\n",
              "      display: none;\n",
              "      fill: #1967D2;\n",
              "      height: 32px;\n",
              "      padding: 0 0 0 0;\n",
              "      width: 32px;\n",
              "    }\n",
              "\n",
              "    .colab-df-convert:hover {\n",
              "      background-color: #E2EBFA;\n",
              "      box-shadow: 0px 1px 2px rgba(60, 64, 67, 0.3), 0px 1px 3px 1px rgba(60, 64, 67, 0.15);\n",
              "      fill: #174EA6;\n",
              "    }\n",
              "\n",
              "    [theme=dark] .colab-df-convert {\n",
              "      background-color: #3B4455;\n",
              "      fill: #D2E3FC;\n",
              "    }\n",
              "\n",
              "    [theme=dark] .colab-df-convert:hover {\n",
              "      background-color: #434B5C;\n",
              "      box-shadow: 0px 1px 3px 1px rgba(0, 0, 0, 0.15);\n",
              "      filter: drop-shadow(0px 1px 2px rgba(0, 0, 0, 0.3));\n",
              "      fill: #FFFFFF;\n",
              "    }\n",
              "  </style>\n",
              "\n",
              "      <script>\n",
              "        const buttonEl =\n",
              "          document.querySelector('#df-a2e4c23b-70c8-4ffd-b86d-17f6796e2c6d button.colab-df-convert');\n",
              "        buttonEl.style.display =\n",
              "          google.colab.kernel.accessAllowed ? 'block' : 'none';\n",
              "\n",
              "        async function convertToInteractive(key) {\n",
              "          const element = document.querySelector('#df-a2e4c23b-70c8-4ffd-b86d-17f6796e2c6d');\n",
              "          const dataTable =\n",
              "            await google.colab.kernel.invokeFunction('convertToInteractive',\n",
              "                                                     [key], {});\n",
              "          if (!dataTable) return;\n",
              "\n",
              "          const docLinkHtml = 'Like what you see? Visit the ' +\n",
              "            '<a target=\"_blank\" href=https://colab.research.google.com/notebooks/data_table.ipynb>data table notebook</a>'\n",
              "            + ' to learn more about interactive tables.';\n",
              "          element.innerHTML = '';\n",
              "          dataTable['output_type'] = 'display_data';\n",
              "          await google.colab.output.renderOutput(dataTable, element);\n",
              "          const docLink = document.createElement('div');\n",
              "          docLink.innerHTML = docLinkHtml;\n",
              "          element.appendChild(docLink);\n",
              "        }\n",
              "      </script>\n",
              "    </div>\n",
              "  </div>\n",
              "  "
            ]
          },
          "metadata": {},
          "execution_count": 114
        }
      ]
    },
    {
      "cell_type": "code",
      "source": [
        "data3"
      ],
      "metadata": {
        "colab": {
          "base_uri": "https://localhost:8080/",
          "height": 423
        },
        "id": "FVpaRHZTRZrp",
        "outputId": "740a33a4-31f6-426d-b44f-514d2bf90ba3"
      },
      "execution_count": 115,
      "outputs": [
        {
          "output_type": "execute_result",
          "data": {
            "text/plain": [
              "     waktu  rerata_skor\n",
              "0    187.0          5.0\n",
              "1    183.0          5.0\n",
              "2    172.0          5.0\n",
              "3    143.0          5.0\n",
              "4    138.0          5.0\n",
              "..     ...          ...\n",
              "140   73.0          1.0\n",
              "141  210.0          NaN\n",
              "142  146.0          NaN\n",
              "143  102.0          NaN\n",
              "144   95.0          NaN\n",
              "\n",
              "[145 rows x 2 columns]"
            ],
            "text/html": [
              "\n",
              "  <div id=\"df-cbb37d68-1622-4297-aa88-cedd1666bbec\">\n",
              "    <div class=\"colab-df-container\">\n",
              "      <div>\n",
              "<style scoped>\n",
              "    .dataframe tbody tr th:only-of-type {\n",
              "        vertical-align: middle;\n",
              "    }\n",
              "\n",
              "    .dataframe tbody tr th {\n",
              "        vertical-align: top;\n",
              "    }\n",
              "\n",
              "    .dataframe thead th {\n",
              "        text-align: right;\n",
              "    }\n",
              "</style>\n",
              "<table border=\"1\" class=\"dataframe\">\n",
              "  <thead>\n",
              "    <tr style=\"text-align: right;\">\n",
              "      <th></th>\n",
              "      <th>waktu</th>\n",
              "      <th>rerata_skor</th>\n",
              "    </tr>\n",
              "  </thead>\n",
              "  <tbody>\n",
              "    <tr>\n",
              "      <th>0</th>\n",
              "      <td>187.0</td>\n",
              "      <td>5.0</td>\n",
              "    </tr>\n",
              "    <tr>\n",
              "      <th>1</th>\n",
              "      <td>183.0</td>\n",
              "      <td>5.0</td>\n",
              "    </tr>\n",
              "    <tr>\n",
              "      <th>2</th>\n",
              "      <td>172.0</td>\n",
              "      <td>5.0</td>\n",
              "    </tr>\n",
              "    <tr>\n",
              "      <th>3</th>\n",
              "      <td>143.0</td>\n",
              "      <td>5.0</td>\n",
              "    </tr>\n",
              "    <tr>\n",
              "      <th>4</th>\n",
              "      <td>138.0</td>\n",
              "      <td>5.0</td>\n",
              "    </tr>\n",
              "    <tr>\n",
              "      <th>...</th>\n",
              "      <td>...</td>\n",
              "      <td>...</td>\n",
              "    </tr>\n",
              "    <tr>\n",
              "      <th>140</th>\n",
              "      <td>73.0</td>\n",
              "      <td>1.0</td>\n",
              "    </tr>\n",
              "    <tr>\n",
              "      <th>141</th>\n",
              "      <td>210.0</td>\n",
              "      <td>NaN</td>\n",
              "    </tr>\n",
              "    <tr>\n",
              "      <th>142</th>\n",
              "      <td>146.0</td>\n",
              "      <td>NaN</td>\n",
              "    </tr>\n",
              "    <tr>\n",
              "      <th>143</th>\n",
              "      <td>102.0</td>\n",
              "      <td>NaN</td>\n",
              "    </tr>\n",
              "    <tr>\n",
              "      <th>144</th>\n",
              "      <td>95.0</td>\n",
              "      <td>NaN</td>\n",
              "    </tr>\n",
              "  </tbody>\n",
              "</table>\n",
              "<p>145 rows × 2 columns</p>\n",
              "</div>\n",
              "      <button class=\"colab-df-convert\" onclick=\"convertToInteractive('df-cbb37d68-1622-4297-aa88-cedd1666bbec')\"\n",
              "              title=\"Convert this dataframe to an interactive table.\"\n",
              "              style=\"display:none;\">\n",
              "        \n",
              "  <svg xmlns=\"http://www.w3.org/2000/svg\" height=\"24px\"viewBox=\"0 0 24 24\"\n",
              "       width=\"24px\">\n",
              "    <path d=\"M0 0h24v24H0V0z\" fill=\"none\"/>\n",
              "    <path d=\"M18.56 5.44l.94 2.06.94-2.06 2.06-.94-2.06-.94-.94-2.06-.94 2.06-2.06.94zm-11 1L8.5 8.5l.94-2.06 2.06-.94-2.06-.94L8.5 2.5l-.94 2.06-2.06.94zm10 10l.94 2.06.94-2.06 2.06-.94-2.06-.94-.94-2.06-.94 2.06-2.06.94z\"/><path d=\"M17.41 7.96l-1.37-1.37c-.4-.4-.92-.59-1.43-.59-.52 0-1.04.2-1.43.59L10.3 9.45l-7.72 7.72c-.78.78-.78 2.05 0 2.83L4 21.41c.39.39.9.59 1.41.59.51 0 1.02-.2 1.41-.59l7.78-7.78 2.81-2.81c.8-.78.8-2.07 0-2.86zM5.41 20L4 18.59l7.72-7.72 1.47 1.35L5.41 20z\"/>\n",
              "  </svg>\n",
              "      </button>\n",
              "      \n",
              "  <style>\n",
              "    .colab-df-container {\n",
              "      display:flex;\n",
              "      flex-wrap:wrap;\n",
              "      gap: 12px;\n",
              "    }\n",
              "\n",
              "    .colab-df-convert {\n",
              "      background-color: #E8F0FE;\n",
              "      border: none;\n",
              "      border-radius: 50%;\n",
              "      cursor: pointer;\n",
              "      display: none;\n",
              "      fill: #1967D2;\n",
              "      height: 32px;\n",
              "      padding: 0 0 0 0;\n",
              "      width: 32px;\n",
              "    }\n",
              "\n",
              "    .colab-df-convert:hover {\n",
              "      background-color: #E2EBFA;\n",
              "      box-shadow: 0px 1px 2px rgba(60, 64, 67, 0.3), 0px 1px 3px 1px rgba(60, 64, 67, 0.15);\n",
              "      fill: #174EA6;\n",
              "    }\n",
              "\n",
              "    [theme=dark] .colab-df-convert {\n",
              "      background-color: #3B4455;\n",
              "      fill: #D2E3FC;\n",
              "    }\n",
              "\n",
              "    [theme=dark] .colab-df-convert:hover {\n",
              "      background-color: #434B5C;\n",
              "      box-shadow: 0px 1px 3px 1px rgba(0, 0, 0, 0.15);\n",
              "      filter: drop-shadow(0px 1px 2px rgba(0, 0, 0, 0.3));\n",
              "      fill: #FFFFFF;\n",
              "    }\n",
              "  </style>\n",
              "\n",
              "      <script>\n",
              "        const buttonEl =\n",
              "          document.querySelector('#df-cbb37d68-1622-4297-aa88-cedd1666bbec button.colab-df-convert');\n",
              "        buttonEl.style.display =\n",
              "          google.colab.kernel.accessAllowed ? 'block' : 'none';\n",
              "\n",
              "        async function convertToInteractive(key) {\n",
              "          const element = document.querySelector('#df-cbb37d68-1622-4297-aa88-cedd1666bbec');\n",
              "          const dataTable =\n",
              "            await google.colab.kernel.invokeFunction('convertToInteractive',\n",
              "                                                     [key], {});\n",
              "          if (!dataTable) return;\n",
              "\n",
              "          const docLinkHtml = 'Like what you see? Visit the ' +\n",
              "            '<a target=\"_blank\" href=https://colab.research.google.com/notebooks/data_table.ipynb>data table notebook</a>'\n",
              "            + ' to learn more about interactive tables.';\n",
              "          element.innerHTML = '';\n",
              "          dataTable['output_type'] = 'display_data';\n",
              "          await google.colab.output.renderOutput(dataTable, element);\n",
              "          const docLink = document.createElement('div');\n",
              "          docLink.innerHTML = docLinkHtml;\n",
              "          element.appendChild(docLink);\n",
              "        }\n",
              "      </script>\n",
              "    </div>\n",
              "  </div>\n",
              "  "
            ]
          },
          "metadata": {},
          "execution_count": 115
        }
      ]
    },
    {
      "cell_type": "code",
      "source": [
        "#data1\n",
        "data1.dropna(inplace=True)\n",
        "data1.isna().sum()"
      ],
      "metadata": {
        "colab": {
          "base_uri": "https://localhost:8080/"
        },
        "id": "JDf8UQ8DKTf5",
        "outputId": "e0fe541b-30dd-42e0-9008-d39794a96a02"
      },
      "execution_count": 126,
      "outputs": [
        {
          "output_type": "execute_result",
          "data": {
            "text/plain": [
              "product_name        0\n",
              "jumlah_pembelian    0\n",
              "dtype: int64"
            ]
          },
          "metadata": {},
          "execution_count": 126
        }
      ]
    },
    {
      "cell_type": "code",
      "source": [
        "#data 2\n",
        "data2.dropna(inplace=True)\n",
        "data2.isna().sum()"
      ],
      "metadata": {
        "colab": {
          "base_uri": "https://localhost:8080/"
        },
        "id": "TJb3FIUsKQbY",
        "outputId": "37532389-c1c3-48ab-90d2-bfd8932d6243"
      },
      "execution_count": 127,
      "outputs": [
        {
          "output_type": "execute_result",
          "data": {
            "text/plain": [
              "customer_city       0\n",
              "product_name        0\n",
              "jumlah_pembelian    0\n",
              "dtype: int64"
            ]
          },
          "metadata": {},
          "execution_count": 127
        }
      ]
    },
    {
      "cell_type": "code",
      "source": [
        "#data 3 \n",
        "data3.dropna(inplace=True)\n",
        "data3.isna().sum()"
      ],
      "metadata": {
        "colab": {
          "base_uri": "https://localhost:8080/"
        },
        "id": "5hB9uvLgKPxK",
        "outputId": "9d2047f9-b198-40cc-e52b-2d1cec3c6666"
      },
      "execution_count": 128,
      "outputs": [
        {
          "output_type": "execute_result",
          "data": {
            "text/plain": [
              "waktu          0\n",
              "rerata_skor    0\n",
              "dtype: int64"
            ]
          },
          "metadata": {},
          "execution_count": 128
        }
      ]
    },
    {
      "cell_type": "code",
      "source": [
        "#membuat pivot table antara kota dan nama barang sebagai index dan kolom, dan jumlah pembelian sebagai values\n",
        "data2_pivot = data2.pivot_table(values='jumlah_pembelian', index='customer_city', columns='product_name', aggfunc='sum', fill_value=0) \n",
        "\n",
        "#melakukan for loop untuk memperoleh data tiap barang dengan penjualan tertinggi terdapat di kota apa saja\n",
        "kota = []\n",
        "barang = []\n",
        "nilai = []\n",
        "for i in data2_pivot.columns:\n",
        "    data2_final = data2_pivot.loc[data2_pivot[f'{i}'] == data2_pivot[f'{i}'].max(), f'{i}']\n",
        "    kota.append(data2_final.index[0])\n",
        "    barang.append(i)\n",
        "    nilai.append(data2_final[0])\n",
        "\n",
        "#pembuatan data baru yang terdiri dari kota tempat suatu barang terbanyak dibeli \n",
        "rekap_segmentasi = pd.DataFrame({'kota': kota,\n",
        "                   'barang': barang,\n",
        "                   'jumlah': nilai})\n",
        "\n",
        "#rekap lebih lanjut, merangkum dalam tiap kota terdapat berapa barang yang terjual paling banyak di kota tersebut\n",
        "rekap_segmentasi['kota'].value_counts()"
      ],
      "metadata": {
        "colab": {
          "base_uri": "https://localhost:8080/"
        },
        "id": "V4Khf7chKXrR",
        "outputId": "4cbab9d6-dbb2-4af9-ebcc-9240e4222880"
      },
      "execution_count": 129,
      "outputs": [
        {
          "output_type": "execute_result",
          "data": {
            "text/plain": [
              "sao paulo         62\n",
              "rio de janeiro     5\n",
              "diadema            1\n",
              "itapeva            1\n",
              "parauapebas        1\n",
              "brasilia           1\n",
              "Name: kota, dtype: int64"
            ]
          },
          "metadata": {},
          "execution_count": 129
        }
      ]
    },
    {
      "cell_type": "code",
      "source": [
        "data2_pivot.dropna(inplace=True)\n",
        "data2_pivot.isna().sum()\n",
        "data2_pivot.max()\n",
        "data2_pivot.index"
      ],
      "metadata": {
        "colab": {
          "base_uri": "https://localhost:8080/"
        },
        "id": "gqKYgEznKaJC",
        "outputId": "f6d2682c-c448-4a3f-cb16-1244d6142f60"
      },
      "execution_count": 130,
      "outputs": [
        {
          "output_type": "execute_result",
          "data": {
            "text/plain": [
              "Index(['abadia dos dourados', 'abadiania', 'abaete', 'abaetetuba', 'abaiara',\n",
              "       'abaira', 'abare', 'abatia', 'abdon batista', 'abelardo luz',\n",
              "       ...\n",
              "       'xanxere', 'xapuri', 'xavantina', 'xaxim', 'xexeu', 'xinguara',\n",
              "       'xique-xique', 'zacarias', 'ze doca', 'zortea'],\n",
              "      dtype='object', name='customer_city', length=4095)"
            ]
          },
          "metadata": {},
          "execution_count": 130
        }
      ]
    },
    {
      "cell_type": "code",
      "source": [
        "#missing value data baru\n",
        "rekap_segmentasi.isna().sum()"
      ],
      "metadata": {
        "colab": {
          "base_uri": "https://localhost:8080/"
        },
        "id": "OuUj3tRzKYhm",
        "outputId": "b465137a-2bf6-40b9-d1ec-c60ada60f312"
      },
      "execution_count": 131,
      "outputs": [
        {
          "output_type": "execute_result",
          "data": {
            "text/plain": [
              "kota      0\n",
              "barang    0\n",
              "jumlah    0\n",
              "dtype: int64"
            ]
          },
          "metadata": {},
          "execution_count": 131
        }
      ]
    },
    {
      "cell_type": "code",
      "source": [
        "#mengecek nilai yang duplikasi\n",
        "data1.duplicated(keep=False).sum()\n",
        "data2.duplicated(keep=False).sum()\n",
        "data3.duplicated(keep=False).sum()"
      ],
      "metadata": {
        "colab": {
          "base_uri": "https://localhost:8080/"
        },
        "id": "t1X85Om8KcWE",
        "outputId": "d37b6ed5-5f97-4e7d-ff01-db8c93e30ddc"
      },
      "execution_count": 132,
      "outputs": [
        {
          "output_type": "execute_result",
          "data": {
            "text/plain": [
              "0"
            ]
          },
          "metadata": {},
          "execution_count": 132
        }
      ]
    },
    {
      "cell_type": "code",
      "source": [
        "#outliner untuk data2\n",
        "sns.boxplot(data = rekap_segmentasi, x=rekap_segmentasi['jumlah'])"
      ],
      "metadata": {
        "colab": {
          "base_uri": "https://localhost:8080/",
          "height": 296
        },
        "id": "3LQlzjG4KewN",
        "outputId": "69cceb35-2398-4b73-aa49-752a2486d138"
      },
      "execution_count": 133,
      "outputs": [
        {
          "output_type": "execute_result",
          "data": {
            "text/plain": [
              "<matplotlib.axes._subplots.AxesSubplot at 0x7f075cf68ca0>"
            ]
          },
          "metadata": {},
          "execution_count": 133
        },
        {
          "output_type": "display_data",
          "data": {
            "text/plain": [
              "<Figure size 432x288 with 1 Axes>"
            ],
            "image/png": "[encoded data removed]"
          },
          "metadata": {
            "needs_background": "light"
          }
        }
      ]
    },
    {
      "cell_type": "code",
      "source": [
        "batas_atas = rekap_segmentasi['jumlah'].quantile(q = 0.75) * 1.5\n",
        "median = rekap_segmentasi['jumlah'].median()\n",
        "print(batas_atas)\n",
        "print(median)\n",
        "rekap_segmentasi.loc[rekap_segmentasi['jumlah'] > batas_atas, 'jumlah'] = median\n",
        "sns.boxplot(data = rekap_segmentasi, x=rekap_segmentasi['jumlah'])"
      ],
      "metadata": {
        "colab": {
          "base_uri": "https://localhost:8080/",
          "height": 331
        },
        "id": "YEtAzHkHKglt",
        "outputId": "87f4e1f4-d528-4f7f-b237-ea39bb356b49"
      },
      "execution_count": 134,
      "outputs": [
        {
          "output_type": "stream",
          "name": "stdout",
          "text": [
            "540.75\n",
            "54.0\n"
          ]
        },
        {
          "output_type": "execute_result",
          "data": {
            "text/plain": [
              "<matplotlib.axes._subplots.AxesSubplot at 0x7f07644c93d0>"
            ]
          },
          "metadata": {},
          "execution_count": 134
        },
        {
          "output_type": "display_data",
          "data": {
            "text/plain": [
              "<Figure size 432x288 with 1 Axes>"
            ],
            "image/png": "[encoded data removed]"
          },
          "metadata": {
            "needs_background": "light"
          }
        }
      ]
    },
    {
      "cell_type": "code",
      "source": [
        "batas_atas = rekap_segmentasi['jumlah'].quantile(q = 0.75) * 1.5\n",
        "median = rekap_segmentasi['jumlah'].median()\n",
        "print(batas_atas)\n",
        "print(median)\n",
        "rekap_segmentasi.loc[rekap_segmentasi['jumlah'] > batas_atas, 'jumlah'] = median\n",
        "sns.boxplot(data = rekap_segmentasi, x=rekap_segmentasi['jumlah'])"
      ],
      "metadata": {
        "colab": {
          "base_uri": "https://localhost:8080/",
          "height": 331
        },
        "id": "JljJ2ZcFKlip",
        "outputId": "50b001ce-9765-4e87-f9cd-e6369fd43045"
      },
      "execution_count": 135,
      "outputs": [
        {
          "output_type": "stream",
          "name": "stdout",
          "text": [
            "126.0\n",
            "54.0\n"
          ]
        },
        {
          "output_type": "execute_result",
          "data": {
            "text/plain": [
              "<matplotlib.axes._subplots.AxesSubplot at 0x7f07781b87f0>"
            ]
          },
          "metadata": {},
          "execution_count": 135
        },
        {
          "output_type": "display_data",
          "data": {
            "text/plain": [
              "<Figure size 432x288 with 1 Axes>"
            ],
            "image/png": "[encoded data removed]"
          },
          "metadata": {
            "needs_background": "light"
          }
        }
      ]
    },
    {
      "cell_type": "code",
      "source": [
        "batas_atas = rekap_segmentasi['jumlah'].quantile(q = 0.75) * 1.5\n",
        "median = rekap_segmentasi['jumlah'].median()\n",
        "print(batas_atas)\n",
        "print(median)\n",
        "rekap_segmentasi.loc[rekap_segmentasi['jumlah'] > batas_atas, 'jumlah'] = median\n",
        "sns.boxplot(data = rekap_segmentasi, x=rekap_segmentasi['jumlah'])\n",
        "\n",
        "#data rekap_segmentasi perlu dilakukan penanganan outlier berulang agar benar benar menghilangkan seluruh outliernya"
      ],
      "metadata": {
        "colab": {
          "base_uri": "https://localhost:8080/",
          "height": 331
        },
        "id": "zdwqlG71KntQ",
        "outputId": "f4072039-f754-4122-ef95-6dd84310f0d8"
      },
      "execution_count": 136,
      "outputs": [
        {
          "output_type": "stream",
          "name": "stdout",
          "text": [
            "81.0\n",
            "54.0\n"
          ]
        },
        {
          "output_type": "execute_result",
          "data": {
            "text/plain": [
              "<matplotlib.axes._subplots.AxesSubplot at 0x7f076a7cf3d0>"
            ]
          },
          "metadata": {},
          "execution_count": 136
        },
        {
          "output_type": "display_data",
          "data": {
            "text/plain": [
              "<Figure size 432x288 with 1 Axes>"
            ],
            "image/png": "[encoded data removed]"
          },
          "metadata": {
            "needs_background": "light"
          }
        }
      ]
    },
    {
      "cell_type": "code",
      "source": [
        "rekap_segmentasi"
      ],
      "metadata": {
        "colab": {
          "base_uri": "https://localhost:8080/",
          "height": 423
        },
        "id": "ma437b0qLVm_",
        "outputId": "5779de6a-162e-42cd-8510-12a463c0fc25"
      },
      "execution_count": 137,
      "outputs": [
        {
          "output_type": "execute_result",
          "data": {
            "text/plain": [
              "              kota                      barang  jumlah\n",
              "0        sao paulo  agro_industry_and_commerce      52\n",
              "1   rio de janeiro            air_conditioning      50\n",
              "2        sao paulo                         art      34\n",
              "3          diadema       arts_and_craftmanship       3\n",
              "4        sao paulo                       audio      66\n",
              "..             ...                         ...     ...\n",
              "66       sao paulo                  stationery      54\n",
              "67       sao paulo      tablets_printing_image      10\n",
              "68       sao paulo                   telephony      54\n",
              "69       sao paulo                        toys      54\n",
              "70       sao paulo               watches_gifts      54\n",
              "\n",
              "[71 rows x 3 columns]"
            ],
            "text/html": [
              "\n",
              "  <div id=\"df-c0cae446-2015-42f1-aac3-f81d82e8534c\">\n",
              "    <div class=\"colab-df-container\">\n",
              "      <div>\n",
              "<style scoped>\n",
              "    .dataframe tbody tr th:only-of-type {\n",
              "        vertical-align: middle;\n",
              "    }\n",
              "\n",
              "    .dataframe tbody tr th {\n",
              "        vertical-align: top;\n",
              "    }\n",
              "\n",
              "    .dataframe thead th {\n",
              "        text-align: right;\n",
              "    }\n",
              "</style>\n",
              "<table border=\"1\" class=\"dataframe\">\n",
              "  <thead>\n",
              "    <tr style=\"text-align: right;\">\n",
              "      <th></th>\n",
              "      <th>kota</th>\n",
              "      <th>barang</th>\n",
              "      <th>jumlah</th>\n",
              "    </tr>\n",
              "  </thead>\n",
              "  <tbody>\n",
              "    <tr>\n",
              "      <th>0</th>\n",
              "      <td>sao paulo</td>\n",
              "      <td>agro_industry_and_commerce</td>\n",
              "      <td>52</td>\n",
              "    </tr>\n",
              "    <tr>\n",
              "      <th>1</th>\n",
              "      <td>rio de janeiro</td>\n",
              "      <td>air_conditioning</td>\n",
              "      <td>50</td>\n",
              "    </tr>\n",
              "    <tr>\n",
              "      <th>2</th>\n",
              "      <td>sao paulo</td>\n",
              "      <td>art</td>\n",
              "      <td>34</td>\n",
              "    </tr>\n",
              "    <tr>\n",
              "      <th>3</th>\n",
              "      <td>diadema</td>\n",
              "      <td>arts_and_craftmanship</td>\n",
              "      <td>3</td>\n",
              "    </tr>\n",
              "    <tr>\n",
              "      <th>4</th>\n",
              "      <td>sao paulo</td>\n",
              "      <td>audio</td>\n",
              "      <td>66</td>\n",
              "    </tr>\n",
              "    <tr>\n",
              "      <th>...</th>\n",
              "      <td>...</td>\n",
              "      <td>...</td>\n",
              "      <td>...</td>\n",
              "    </tr>\n",
              "    <tr>\n",
              "      <th>66</th>\n",
              "      <td>sao paulo</td>\n",
              "      <td>stationery</td>\n",
              "      <td>54</td>\n",
              "    </tr>\n",
              "    <tr>\n",
              "      <th>67</th>\n",
              "      <td>sao paulo</td>\n",
              "      <td>tablets_printing_image</td>\n",
              "      <td>10</td>\n",
              "    </tr>\n",
              "    <tr>\n",
              "      <th>68</th>\n",
              "      <td>sao paulo</td>\n",
              "      <td>telephony</td>\n",
              "      <td>54</td>\n",
              "    </tr>\n",
              "    <tr>\n",
              "      <th>69</th>\n",
              "      <td>sao paulo</td>\n",
              "      <td>toys</td>\n",
              "      <td>54</td>\n",
              "    </tr>\n",
              "    <tr>\n",
              "      <th>70</th>\n",
              "      <td>sao paulo</td>\n",
              "      <td>watches_gifts</td>\n",
              "      <td>54</td>\n",
              "    </tr>\n",
              "  </tbody>\n",
              "</table>\n",
              "<p>71 rows × 3 columns</p>\n",
              "</div>\n",
              "      <button class=\"colab-df-convert\" onclick=\"convertToInteractive('df-c0cae446-2015-42f1-aac3-f81d82e8534c')\"\n",
              "              title=\"Convert this dataframe to an interactive table.\"\n",
              "              style=\"display:none;\">\n",
              "        \n",
              "  <svg xmlns=\"http://www.w3.org/2000/svg\" height=\"24px\"viewBox=\"0 0 24 24\"\n",
              "       width=\"24px\">\n",
              "    <path d=\"M0 0h24v24H0V0z\" fill=\"none\"/>\n",
              "    <path d=\"M18.56 5.44l.94 2.06.94-2.06 2.06-.94-2.06-.94-.94-2.06-.94 2.06-2.06.94zm-11 1L8.5 8.5l.94-2.06 2.06-.94-2.06-.94L8.5 2.5l-.94 2.06-2.06.94zm10 10l.94 2.06.94-2.06 2.06-.94-2.06-.94-.94-2.06-.94 2.06-2.06.94z\"/><path d=\"M17.41 7.96l-1.37-1.37c-.4-.4-.92-.59-1.43-.59-.52 0-1.04.2-1.43.59L10.3 9.45l-7.72 7.72c-.78.78-.78 2.05 0 2.83L4 21.41c.39.39.9.59 1.41.59.51 0 1.02-.2 1.41-.59l7.78-7.78 2.81-2.81c.8-.78.8-2.07 0-2.86zM5.41 20L4 18.59l7.72-7.72 1.47 1.35L5.41 20z\"/>\n",
              "  </svg>\n",
              "      </button>\n",
              "      \n",
              "  <style>\n",
              "    .colab-df-container {\n",
              "      display:flex;\n",
              "      flex-wrap:wrap;\n",
              "      gap: 12px;\n",
              "    }\n",
              "\n",
              "    .colab-df-convert {\n",
              "      background-color: #E8F0FE;\n",
              "      border: none;\n",
              "      border-radius: 50%;\n",
              "      cursor: pointer;\n",
              "      display: none;\n",
              "      fill: #1967D2;\n",
              "      height: 32px;\n",
              "      padding: 0 0 0 0;\n",
              "      width: 32px;\n",
              "    }\n",
              "\n",
              "    .colab-df-convert:hover {\n",
              "      background-color: #E2EBFA;\n",
              "      box-shadow: 0px 1px 2px rgba(60, 64, 67, 0.3), 0px 1px 3px 1px rgba(60, 64, 67, 0.15);\n",
              "      fill: #174EA6;\n",
              "    }\n",
              "\n",
              "    [theme=dark] .colab-df-convert {\n",
              "      background-color: #3B4455;\n",
              "      fill: #D2E3FC;\n",
              "    }\n",
              "\n",
              "    [theme=dark] .colab-df-convert:hover {\n",
              "      background-color: #434B5C;\n",
              "      box-shadow: 0px 1px 3px 1px rgba(0, 0, 0, 0.15);\n",
              "      filter: drop-shadow(0px 1px 2px rgba(0, 0, 0, 0.3));\n",
              "      fill: #FFFFFF;\n",
              "    }\n",
              "  </style>\n",
              "\n",
              "      <script>\n",
              "        const buttonEl =\n",
              "          document.querySelector('#df-c0cae446-2015-42f1-aac3-f81d82e8534c button.colab-df-convert');\n",
              "        buttonEl.style.display =\n",
              "          google.colab.kernel.accessAllowed ? 'block' : 'none';\n",
              "\n",
              "        async function convertToInteractive(key) {\n",
              "          const element = document.querySelector('#df-c0cae446-2015-42f1-aac3-f81d82e8534c');\n",
              "          const dataTable =\n",
              "            await google.colab.kernel.invokeFunction('convertToInteractive',\n",
              "                                                     [key], {});\n",
              "          if (!dataTable) return;\n",
              "\n",
              "          const docLinkHtml = 'Like what you see? Visit the ' +\n",
              "            '<a target=\"_blank\" href=https://colab.research.google.com/notebooks/data_table.ipynb>data table notebook</a>'\n",
              "            + ' to learn more about interactive tables.';\n",
              "          element.innerHTML = '';\n",
              "          dataTable['output_type'] = 'display_data';\n",
              "          await google.colab.output.renderOutput(dataTable, element);\n",
              "          const docLink = document.createElement('div');\n",
              "          docLink.innerHTML = docLinkHtml;\n",
              "          element.appendChild(docLink);\n",
              "        }\n",
              "      </script>\n",
              "    </div>\n",
              "  </div>\n",
              "  "
            ]
          },
          "metadata": {},
          "execution_count": 137
        }
      ]
    },
    {
      "cell_type": "code",
      "source": [
        "data2.to_csv('data2_hasil.csv', index=False)"
      ],
      "metadata": {
        "id": "6fF2ilzNIGTq"
      },
      "execution_count": 21,
      "outputs": []
    },
    {
      "cell_type": "code",
      "source": [
        "#outliner untuk data1\n",
        "sns.boxplot(data = data1, x=data1['jumlah_pembelian'])"
      ],
      "metadata": {
        "colab": {
          "base_uri": "https://localhost:8080/",
          "height": 297
        },
        "id": "RiicUTJNK31V",
        "outputId": "115c6be8-c92b-4887-9f65-9de3771dd54c"
      },
      "execution_count": 138,
      "outputs": [
        {
          "output_type": "execute_result",
          "data": {
            "text/plain": [
              "<matplotlib.axes._subplots.AxesSubplot at 0x7f077e422220>"
            ]
          },
          "metadata": {},
          "execution_count": 138
        },
        {
          "output_type": "display_data",
          "data": {
            "text/plain": [
              "<Figure size 432x288 with 1 Axes>"
            ],
            "image/png": "[encoded data removed]"
          },
          "metadata": {
            "needs_background": "light"
          }
        }
      ]
    },
    {
      "cell_type": "code",
      "source": [
        "batas_atas = data1['jumlah_pembelian'].quantile(q = 0.75) * 1.5\n",
        "median = data1['jumlah_pembelian'].median()\n",
        "print(batas_atas)\n",
        "print(median)\n",
        "data1.loc[data1['jumlah_pembelian'] > batas_atas, 'jumlah_pembelian'] = median\n",
        "sns.boxplot(data = data1, x=data1['jumlah_pembelian'])"
      ],
      "metadata": {
        "colab": {
          "base_uri": "https://localhost:8080/",
          "height": 332
        },
        "id": "9WDhM91pK56v",
        "outputId": "27c2d944-393a-4ee4-f751-bd16c2774816"
      },
      "execution_count": 139,
      "outputs": [
        {
          "output_type": "stream",
          "name": "stdout",
          "text": [
            "3407.25\n",
            "365.0\n"
          ]
        },
        {
          "output_type": "execute_result",
          "data": {
            "text/plain": [
              "<matplotlib.axes._subplots.AxesSubplot at 0x7f0776824160>"
            ]
          },
          "metadata": {},
          "execution_count": 139
        },
        {
          "output_type": "display_data",
          "data": {
            "text/plain": [
              "<Figure size 432x288 with 1 Axes>"
            ],
            "image/png": "[encoded data removed]"
          },
          "metadata": {
            "needs_background": "light"
          }
        }
      ]
    },
    {
      "cell_type": "code",
      "source": [
        "batas_atas = data1['jumlah_pembelian'].quantile(q = 0.75) * 1.5\n",
        "median = data1['jumlah_pembelian'].median()\n",
        "print(batas_atas)\n",
        "print(median)\n",
        "data1.loc[data1['jumlah_pembelian'] > batas_atas, 'jumlah_pembelian'] = median\n",
        "sns.boxplot(data = data1, x=data1['jumlah_pembelian'])"
      ],
      "metadata": {
        "colab": {
          "base_uri": "https://localhost:8080/",
          "height": 332
        },
        "id": "tdhaB08DAnS8",
        "outputId": "0d497cf8-0f27-4ad2-f25a-2017b557e5fe"
      },
      "execution_count": 140,
      "outputs": [
        {
          "output_type": "stream",
          "name": "stdout",
          "text": [
            "611.25\n",
            "365.0\n"
          ]
        },
        {
          "output_type": "execute_result",
          "data": {
            "text/plain": [
              "<matplotlib.axes._subplots.AxesSubplot at 0x7f077d7dd370>"
            ]
          },
          "metadata": {},
          "execution_count": 140
        },
        {
          "output_type": "display_data",
          "data": {
            "text/plain": [
              "<Figure size 432x288 with 1 Axes>"
            ],
            "image/png": "[encoded data removed]"
          },
          "metadata": {
            "needs_background": "light"
          }
        }
      ]
    },
    {
      "cell_type": "code",
      "source": [
        "#ouliner untuk data3\n",
        "fig, ax = plt.subplots(1, 2, figsize=(15, 5))\n",
        "\n",
        "\n",
        "sns.boxplot(ax=ax[0], data = data3, x=data3['waktu'])\n",
        "sns.boxplot(ax=ax[1], data = data3, x=data3['rerata_skor'])"
      ],
      "metadata": {
        "colab": {
          "base_uri": "https://localhost:8080/",
          "height": 352
        },
        "id": "35JOfqQrK9vC",
        "outputId": "78017533-6105-4687-d75b-b07ea0a45fdd"
      },
      "execution_count": 141,
      "outputs": [
        {
          "output_type": "execute_result",
          "data": {
            "text/plain": [
              "<matplotlib.axes._subplots.AxesSubplot at 0x7f076c1cae50>"
            ]
          },
          "metadata": {},
          "execution_count": 141
        },
        {
          "output_type": "display_data",
          "data": {
            "text/plain": [
              "<Figure size 1080x360 with 2 Axes>"
            ],
            "image/png": "[encoded data removed]"
          },
          "metadata": {
            "needs_background": "light"
          }
        }
      ]
    },
    {
      "cell_type": "code",
      "source": [
        "#memeriksa inkonsisten data1\n",
        "\n",
        "print(data1[\"product_name\"].to_string())"
      ],
      "metadata": {
        "colab": {
          "base_uri": "https://localhost:8080/"
        },
        "id": "R1NHWF-5LJSp",
        "outputId": "79af3aef-89ca-4439-c2d1-720f565669fa"
      },
      "execution_count": 27,
      "outputs": [
        {
          "output_type": "stream",
          "name": "stdout",
          "text": [
            "0                              bed_bath_table\n",
            "1                             furniture_decor\n",
            "2                               health_beauty\n",
            "3                              sports_leisure\n",
            "4                       computers_accessories\n",
            "5                                  housewares\n",
            "6                               watches_gifts\n",
            "7                                garden_tools\n",
            "8                                   telephony\n",
            "9                                        auto\n",
            "10                                       toys\n",
            "11                                 cool_stuff\n",
            "12                                  perfumery\n",
            "13                                       baby\n",
            "14                                electronics\n",
            "15                                 stationery\n",
            "16                           office_furniture\n",
            "17                                   pet_shop\n",
            "18                   fashion_bags_accessories\n",
            "20            construction_tools_construction\n",
            "21                             consoles_games\n",
            "22                        luggage_accessories\n",
            "23                          home_construction\n",
            "24                            home_appliances\n",
            "25                        musical_instruments\n",
            "26                           small_appliances\n",
            "27                      furniture_living_room\n",
            "28                                       food\n",
            "29                     books_general_interest\n",
            "30                                     drinks\n",
            "31                               home_confort\n",
            "32                  construction_tools_lights\n",
            "33                                      audio\n",
            "34                               market_place\n",
            "35                            fixed_telephony\n",
            "36                                 food_drink\n",
            "37                           air_conditioning\n",
            "38    kitchen_dining_laundry_garden_furniture\n",
            "39             industry_commerce_and_business\n",
            "40                     signaling_and_security\n",
            "41                   costruction_tools_garden\n",
            "42                              fashion_shoes\n",
            "43                            books_technical\n",
            "44                 agro_industry_and_commerce\n",
            "45                  construction_tools_safety\n",
            "46                          home_appliances_2\n",
            "47                                  computers\n",
            "48                                        art\n",
            "49                         christmas_supplies\n",
            "50                      fashion_male_clothing\n",
            "51                    fashion_underwear_beach\n",
            "52                          furniture_bedroom\n",
            "53                    costruction_tools_tools\n",
            "54                     tablets_printing_image\n",
            "55                                 cine_photo\n",
            "56      small_appliances_home_oven_and_coffee\n",
            "57                               dvds_blu_ray\n",
            "58                             books_imported\n",
            "59                     fashio_female_clothing\n",
            "60                        diapers_and_hygiene\n",
            "61                             party_supplies\n",
            "62                                      music\n",
            "63                             home_comfort_2\n",
            "64          furniture_mattress_and_upholstery\n",
            "65                              fashion_sport\n",
            "66                                    flowers\n",
            "67                      arts_and_craftmanship\n",
            "68                                 la_cuisine\n",
            "69                          cds_dvds_musicals\n",
            "70                  fashion_childrens_clothes\n",
            "71                      security_and_services\n"
          ]
        }
      ]
    },
    {
      "cell_type": "code",
      "source": [
        "map_inkonsisten = {\n",
        "    'home_appliances_2': 'home_appliances',\n",
        "    'home_confort': 'home_comfort',\n",
        "    'home_comfort_2': 'home_comfort'\n",
        "}"
      ],
      "metadata": {
        "id": "lZGAHTEVLLXm"
      },
      "execution_count": 28,
      "outputs": []
    },
    {
      "cell_type": "code",
      "source": [
        "data1[\"product_name\"].replace(map_inkonsisten)\n",
        "data1[\"product_name\"] = data1[\"product_name\"].replace(map_inkonsisten)\n",
        "print(data1[\"product_name\"].to_string())"
      ],
      "metadata": {
        "colab": {
          "base_uri": "https://localhost:8080/"
        },
        "id": "XUiQEGIdLLbV",
        "outputId": "1d8a3129-3673-47a9-91b2-ac8b160bf610"
      },
      "execution_count": 29,
      "outputs": [
        {
          "output_type": "stream",
          "name": "stdout",
          "text": [
            "0                              bed_bath_table\n",
            "1                             furniture_decor\n",
            "2                               health_beauty\n",
            "3                              sports_leisure\n",
            "4                       computers_accessories\n",
            "5                                  housewares\n",
            "6                               watches_gifts\n",
            "7                                garden_tools\n",
            "8                                   telephony\n",
            "9                                        auto\n",
            "10                                       toys\n",
            "11                                 cool_stuff\n",
            "12                                  perfumery\n",
            "13                                       baby\n",
            "14                                electronics\n",
            "15                                 stationery\n",
            "16                           office_furniture\n",
            "17                                   pet_shop\n",
            "18                   fashion_bags_accessories\n",
            "20            construction_tools_construction\n",
            "21                             consoles_games\n",
            "22                        luggage_accessories\n",
            "23                          home_construction\n",
            "24                            home_appliances\n",
            "25                        musical_instruments\n",
            "26                           small_appliances\n",
            "27                      furniture_living_room\n",
            "28                                       food\n",
            "29                     books_general_interest\n",
            "30                                     drinks\n",
            "31                               home_comfort\n",
            "32                  construction_tools_lights\n",
            "33                                      audio\n",
            "34                               market_place\n",
            "35                            fixed_telephony\n",
            "36                                 food_drink\n",
            "37                           air_conditioning\n",
            "38    kitchen_dining_laundry_garden_furniture\n",
            "39             industry_commerce_and_business\n",
            "40                     signaling_and_security\n",
            "41                   costruction_tools_garden\n",
            "42                              fashion_shoes\n",
            "43                            books_technical\n",
            "44                 agro_industry_and_commerce\n",
            "45                  construction_tools_safety\n",
            "46                            home_appliances\n",
            "47                                  computers\n",
            "48                                        art\n",
            "49                         christmas_supplies\n",
            "50                      fashion_male_clothing\n",
            "51                    fashion_underwear_beach\n",
            "52                          furniture_bedroom\n",
            "53                    costruction_tools_tools\n",
            "54                     tablets_printing_image\n",
            "55                                 cine_photo\n",
            "56      small_appliances_home_oven_and_coffee\n",
            "57                               dvds_blu_ray\n",
            "58                             books_imported\n",
            "59                     fashio_female_clothing\n",
            "60                        diapers_and_hygiene\n",
            "61                             party_supplies\n",
            "62                                      music\n",
            "63                               home_comfort\n",
            "64          furniture_mattress_and_upholstery\n",
            "65                              fashion_sport\n",
            "66                                    flowers\n",
            "67                      arts_and_craftmanship\n",
            "68                                 la_cuisine\n",
            "69                          cds_dvds_musicals\n",
            "70                  fashion_childrens_clothes\n",
            "71                      security_and_services\n"
          ]
        }
      ]
    },
    {
      "cell_type": "code",
      "source": [
        "data1"
      ],
      "metadata": {
        "colab": {
          "base_uri": "https://localhost:8080/",
          "height": 423
        },
        "id": "P0VWxcL1LLeX",
        "outputId": "aeb2a0f9-37f4-42a2-baf5-aa9186f5d6ce"
      },
      "execution_count": 30,
      "outputs": [
        {
          "output_type": "execute_result",
          "data": {
            "text/plain": [
              "                 product_name  jumlah_pembelian\n",
              "0              bed_bath_table               365\n",
              "1             furniture_decor               365\n",
              "2               health_beauty               365\n",
              "3              sports_leisure               365\n",
              "4       computers_accessories               365\n",
              "..                        ...               ...\n",
              "67      arts_and_craftmanship                26\n",
              "68                 la_cuisine                16\n",
              "69          cds_dvds_musicals                16\n",
              "70  fashion_childrens_clothes                 8\n",
              "71      security_and_services                 2\n",
              "\n",
              "[71 rows x 2 columns]"
            ],
            "text/html": [
              "\n",
              "  <div id=\"df-0435946a-9ae6-4a71-aaee-6deb11dd24ee\">\n",
              "    <div class=\"colab-df-container\">\n",
              "      <div>\n",
              "<style scoped>\n",
              "    .dataframe tbody tr th:only-of-type {\n",
              "        vertical-align: middle;\n",
              "    }\n",
              "\n",
              "    .dataframe tbody tr th {\n",
              "        vertical-align: top;\n",
              "    }\n",
              "\n",
              "    .dataframe thead th {\n",
              "        text-align: right;\n",
              "    }\n",
              "</style>\n",
              "<table border=\"1\" class=\"dataframe\">\n",
              "  <thead>\n",
              "    <tr style=\"text-align: right;\">\n",
              "      <th></th>\n",
              "      <th>product_name</th>\n",
              "      <th>jumlah_pembelian</th>\n",
              "    </tr>\n",
              "  </thead>\n",
              "  <tbody>\n",
              "    <tr>\n",
              "      <th>0</th>\n",
              "      <td>bed_bath_table</td>\n",
              "      <td>365</td>\n",
              "    </tr>\n",
              "    <tr>\n",
              "      <th>1</th>\n",
              "      <td>furniture_decor</td>\n",
              "      <td>365</td>\n",
              "    </tr>\n",
              "    <tr>\n",
              "      <th>2</th>\n",
              "      <td>health_beauty</td>\n",
              "      <td>365</td>\n",
              "    </tr>\n",
              "    <tr>\n",
              "      <th>3</th>\n",
              "      <td>sports_leisure</td>\n",
              "      <td>365</td>\n",
              "    </tr>\n",
              "    <tr>\n",
              "      <th>4</th>\n",
              "      <td>computers_accessories</td>\n",
              "      <td>365</td>\n",
              "    </tr>\n",
              "    <tr>\n",
              "      <th>...</th>\n",
              "      <td>...</td>\n",
              "      <td>...</td>\n",
              "    </tr>\n",
              "    <tr>\n",
              "      <th>67</th>\n",
              "      <td>arts_and_craftmanship</td>\n",
              "      <td>26</td>\n",
              "    </tr>\n",
              "    <tr>\n",
              "      <th>68</th>\n",
              "      <td>la_cuisine</td>\n",
              "      <td>16</td>\n",
              "    </tr>\n",
              "    <tr>\n",
              "      <th>69</th>\n",
              "      <td>cds_dvds_musicals</td>\n",
              "      <td>16</td>\n",
              "    </tr>\n",
              "    <tr>\n",
              "      <th>70</th>\n",
              "      <td>fashion_childrens_clothes</td>\n",
              "      <td>8</td>\n",
              "    </tr>\n",
              "    <tr>\n",
              "      <th>71</th>\n",
              "      <td>security_and_services</td>\n",
              "      <td>2</td>\n",
              "    </tr>\n",
              "  </tbody>\n",
              "</table>\n",
              "<p>71 rows × 2 columns</p>\n",
              "</div>\n",
              "      <button class=\"colab-df-convert\" onclick=\"convertToInteractive('df-0435946a-9ae6-4a71-aaee-6deb11dd24ee')\"\n",
              "              title=\"Convert this dataframe to an interactive table.\"\n",
              "              style=\"display:none;\">\n",
              "        \n",
              "  <svg xmlns=\"http://www.w3.org/2000/svg\" height=\"24px\"viewBox=\"0 0 24 24\"\n",
              "       width=\"24px\">\n",
              "    <path d=\"M0 0h24v24H0V0z\" fill=\"none\"/>\n",
              "    <path d=\"M18.56 5.44l.94 2.06.94-2.06 2.06-.94-2.06-.94-.94-2.06-.94 2.06-2.06.94zm-11 1L8.5 8.5l.94-2.06 2.06-.94-2.06-.94L8.5 2.5l-.94 2.06-2.06.94zm10 10l.94 2.06.94-2.06 2.06-.94-2.06-.94-.94-2.06-.94 2.06-2.06.94z\"/><path d=\"M17.41 7.96l-1.37-1.37c-.4-.4-.92-.59-1.43-.59-.52 0-1.04.2-1.43.59L10.3 9.45l-7.72 7.72c-.78.78-.78 2.05 0 2.83L4 21.41c.39.39.9.59 1.41.59.51 0 1.02-.2 1.41-.59l7.78-7.78 2.81-2.81c.8-.78.8-2.07 0-2.86zM5.41 20L4 18.59l7.72-7.72 1.47 1.35L5.41 20z\"/>\n",
              "  </svg>\n",
              "      </button>\n",
              "      \n",
              "  <style>\n",
              "    .colab-df-container {\n",
              "      display:flex;\n",
              "      flex-wrap:wrap;\n",
              "      gap: 12px;\n",
              "    }\n",
              "\n",
              "    .colab-df-convert {\n",
              "      background-color: #E8F0FE;\n",
              "      border: none;\n",
              "      border-radius: 50%;\n",
              "      cursor: pointer;\n",
              "      display: none;\n",
              "      fill: #1967D2;\n",
              "      height: 32px;\n",
              "      padding: 0 0 0 0;\n",
              "      width: 32px;\n",
              "    }\n",
              "\n",
              "    .colab-df-convert:hover {\n",
              "      background-color: #E2EBFA;\n",
              "      box-shadow: 0px 1px 2px rgba(60, 64, 67, 0.3), 0px 1px 3px 1px rgba(60, 64, 67, 0.15);\n",
              "      fill: #174EA6;\n",
              "    }\n",
              "\n",
              "    [theme=dark] .colab-df-convert {\n",
              "      background-color: #3B4455;\n",
              "      fill: #D2E3FC;\n",
              "    }\n",
              "\n",
              "    [theme=dark] .colab-df-convert:hover {\n",
              "      background-color: #434B5C;\n",
              "      box-shadow: 0px 1px 3px 1px rgba(0, 0, 0, 0.15);\n",
              "      filter: drop-shadow(0px 1px 2px rgba(0, 0, 0, 0.3));\n",
              "      fill: #FFFFFF;\n",
              "    }\n",
              "  </style>\n",
              "\n",
              "      <script>\n",
              "        const buttonEl =\n",
              "          document.querySelector('#df-0435946a-9ae6-4a71-aaee-6deb11dd24ee button.colab-df-convert');\n",
              "        buttonEl.style.display =\n",
              "          google.colab.kernel.accessAllowed ? 'block' : 'none';\n",
              "\n",
              "        async function convertToInteractive(key) {\n",
              "          const element = document.querySelector('#df-0435946a-9ae6-4a71-aaee-6deb11dd24ee');\n",
              "          const dataTable =\n",
              "            await google.colab.kernel.invokeFunction('convertToInteractive',\n",
              "                                                     [key], {});\n",
              "          if (!dataTable) return;\n",
              "\n",
              "          const docLinkHtml = 'Like what you see? Visit the ' +\n",
              "            '<a target=\"_blank\" href=https://colab.research.google.com/notebooks/data_table.ipynb>data table notebook</a>'\n",
              "            + ' to learn more about interactive tables.';\n",
              "          element.innerHTML = '';\n",
              "          dataTable['output_type'] = 'display_data';\n",
              "          await google.colab.output.renderOutput(dataTable, element);\n",
              "          const docLink = document.createElement('div');\n",
              "          docLink.innerHTML = docLinkHtml;\n",
              "          element.appendChild(docLink);\n",
              "        }\n",
              "      </script>\n",
              "    </div>\n",
              "  </div>\n",
              "  "
            ]
          },
          "metadata": {},
          "execution_count": 30
        }
      ]
    },
    {
      "cell_type": "code",
      "source": [
        "data1.to_csv('data1_hasil.csv', index=False)"
      ],
      "metadata": {
        "id": "Z9YwkW3JLMAy"
      },
      "execution_count": 31,
      "outputs": []
    },
    {
      "cell_type": "code",
      "source": [
        "data3"
      ],
      "metadata": {
        "colab": {
          "base_uri": "https://localhost:8080/",
          "height": 423
        },
        "id": "tZEQre5jLd_P",
        "outputId": "77440655-9deb-4b63-a2b5-05f8471b485b"
      },
      "execution_count": 32,
      "outputs": [
        {
          "output_type": "execute_result",
          "data": {
            "text/plain": [
              "     waktu  rerata_skor\n",
              "0    187.0          5.0\n",
              "1    183.0          5.0\n",
              "2    172.0          5.0\n",
              "3    143.0          5.0\n",
              "4    138.0          5.0\n",
              "..     ...          ...\n",
              "136   85.0          1.0\n",
              "137   80.0          1.0\n",
              "138   78.0          1.0\n",
              "139   77.0          1.0\n",
              "140   73.0          1.0\n",
              "\n",
              "[140 rows x 2 columns]"
            ],
            "text/html": [
              "\n",
              "  <div id=\"df-1e6695b9-2d36-4878-a74c-66bbe353b88d\">\n",
              "    <div class=\"colab-df-container\">\n",
              "      <div>\n",
              "<style scoped>\n",
              "    .dataframe tbody tr th:only-of-type {\n",
              "        vertical-align: middle;\n",
              "    }\n",
              "\n",
              "    .dataframe tbody tr th {\n",
              "        vertical-align: top;\n",
              "    }\n",
              "\n",
              "    .dataframe thead th {\n",
              "        text-align: right;\n",
              "    }\n",
              "</style>\n",
              "<table border=\"1\" class=\"dataframe\">\n",
              "  <thead>\n",
              "    <tr style=\"text-align: right;\">\n",
              "      <th></th>\n",
              "      <th>waktu</th>\n",
              "      <th>rerata_skor</th>\n",
              "    </tr>\n",
              "  </thead>\n",
              "  <tbody>\n",
              "    <tr>\n",
              "      <th>0</th>\n",
              "      <td>187.0</td>\n",
              "      <td>5.0</td>\n",
              "    </tr>\n",
              "    <tr>\n",
              "      <th>1</th>\n",
              "      <td>183.0</td>\n",
              "      <td>5.0</td>\n",
              "    </tr>\n",
              "    <tr>\n",
              "      <th>2</th>\n",
              "      <td>172.0</td>\n",
              "      <td>5.0</td>\n",
              "    </tr>\n",
              "    <tr>\n",
              "      <th>3</th>\n",
              "      <td>143.0</td>\n",
              "      <td>5.0</td>\n",
              "    </tr>\n",
              "    <tr>\n",
              "      <th>4</th>\n",
              "      <td>138.0</td>\n",
              "      <td>5.0</td>\n",
              "    </tr>\n",
              "    <tr>\n",
              "      <th>...</th>\n",
              "      <td>...</td>\n",
              "      <td>...</td>\n",
              "    </tr>\n",
              "    <tr>\n",
              "      <th>136</th>\n",
              "      <td>85.0</td>\n",
              "      <td>1.0</td>\n",
              "    </tr>\n",
              "    <tr>\n",
              "      <th>137</th>\n",
              "      <td>80.0</td>\n",
              "      <td>1.0</td>\n",
              "    </tr>\n",
              "    <tr>\n",
              "      <th>138</th>\n",
              "      <td>78.0</td>\n",
              "      <td>1.0</td>\n",
              "    </tr>\n",
              "    <tr>\n",
              "      <th>139</th>\n",
              "      <td>77.0</td>\n",
              "      <td>1.0</td>\n",
              "    </tr>\n",
              "    <tr>\n",
              "      <th>140</th>\n",
              "      <td>73.0</td>\n",
              "      <td>1.0</td>\n",
              "    </tr>\n",
              "  </tbody>\n",
              "</table>\n",
              "<p>140 rows × 2 columns</p>\n",
              "</div>\n",
              "      <button class=\"colab-df-convert\" onclick=\"convertToInteractive('df-1e6695b9-2d36-4878-a74c-66bbe353b88d')\"\n",
              "              title=\"Convert this dataframe to an interactive table.\"\n",
              "              style=\"display:none;\">\n",
              "        \n",
              "  <svg xmlns=\"http://www.w3.org/2000/svg\" height=\"24px\"viewBox=\"0 0 24 24\"\n",
              "       width=\"24px\">\n",
              "    <path d=\"M0 0h24v24H0V0z\" fill=\"none\"/>\n",
              "    <path d=\"M18.56 5.44l.94 2.06.94-2.06 2.06-.94-2.06-.94-.94-2.06-.94 2.06-2.06.94zm-11 1L8.5 8.5l.94-2.06 2.06-.94-2.06-.94L8.5 2.5l-.94 2.06-2.06.94zm10 10l.94 2.06.94-2.06 2.06-.94-2.06-.94-.94-2.06-.94 2.06-2.06.94z\"/><path d=\"M17.41 7.96l-1.37-1.37c-.4-.4-.92-.59-1.43-.59-.52 0-1.04.2-1.43.59L10.3 9.45l-7.72 7.72c-.78.78-.78 2.05 0 2.83L4 21.41c.39.39.9.59 1.41.59.51 0 1.02-.2 1.41-.59l7.78-7.78 2.81-2.81c.8-.78.8-2.07 0-2.86zM5.41 20L4 18.59l7.72-7.72 1.47 1.35L5.41 20z\"/>\n",
              "  </svg>\n",
              "      </button>\n",
              "      \n",
              "  <style>\n",
              "    .colab-df-container {\n",
              "      display:flex;\n",
              "      flex-wrap:wrap;\n",
              "      gap: 12px;\n",
              "    }\n",
              "\n",
              "    .colab-df-convert {\n",
              "      background-color: #E8F0FE;\n",
              "      border: none;\n",
              "      border-radius: 50%;\n",
              "      cursor: pointer;\n",
              "      display: none;\n",
              "      fill: #1967D2;\n",
              "      height: 32px;\n",
              "      padding: 0 0 0 0;\n",
              "      width: 32px;\n",
              "    }\n",
              "\n",
              "    .colab-df-convert:hover {\n",
              "      background-color: #E2EBFA;\n",
              "      box-shadow: 0px 1px 2px rgba(60, 64, 67, 0.3), 0px 1px 3px 1px rgba(60, 64, 67, 0.15);\n",
              "      fill: #174EA6;\n",
              "    }\n",
              "\n",
              "    [theme=dark] .colab-df-convert {\n",
              "      background-color: #3B4455;\n",
              "      fill: #D2E3FC;\n",
              "    }\n",
              "\n",
              "    [theme=dark] .colab-df-convert:hover {\n",
              "      background-color: #434B5C;\n",
              "      box-shadow: 0px 1px 3px 1px rgba(0, 0, 0, 0.15);\n",
              "      filter: drop-shadow(0px 1px 2px rgba(0, 0, 0, 0.3));\n",
              "      fill: #FFFFFF;\n",
              "    }\n",
              "  </style>\n",
              "\n",
              "      <script>\n",
              "        const buttonEl =\n",
              "          document.querySelector('#df-1e6695b9-2d36-4878-a74c-66bbe353b88d button.colab-df-convert');\n",
              "        buttonEl.style.display =\n",
              "          google.colab.kernel.accessAllowed ? 'block' : 'none';\n",
              "\n",
              "        async function convertToInteractive(key) {\n",
              "          const element = document.querySelector('#df-1e6695b9-2d36-4878-a74c-66bbe353b88d');\n",
              "          const dataTable =\n",
              "            await google.colab.kernel.invokeFunction('convertToInteractive',\n",
              "                                                     [key], {});\n",
              "          if (!dataTable) return;\n",
              "\n",
              "          const docLinkHtml = 'Like what you see? Visit the ' +\n",
              "            '<a target=\"_blank\" href=https://colab.research.google.com/notebooks/data_table.ipynb>data table notebook</a>'\n",
              "            + ' to learn more about interactive tables.';\n",
              "          element.innerHTML = '';\n",
              "          dataTable['output_type'] = 'display_data';\n",
              "          await google.colab.output.renderOutput(dataTable, element);\n",
              "          const docLink = document.createElement('div');\n",
              "          docLink.innerHTML = docLinkHtml;\n",
              "          element.appendChild(docLink);\n",
              "        }\n",
              "      </script>\n",
              "    </div>\n",
              "  </div>\n",
              "  "
            ]
          },
          "metadata": {},
          "execution_count": 32
        }
      ]
    },
    {
      "cell_type": "code",
      "source": [
        "data3.to_csv('data3_hasil.csv', index=False)"
      ],
      "metadata": {
        "id": "NPG8w7SxLMEL"
      },
      "execution_count": 33,
      "outputs": []
    },
    {
      "cell_type": "code",
      "source": [
        "# membaca data dari file .csv\n",
        "data = pd.read_csv('data1_hasil.csv')\n",
        "\n",
        "# menyortir data berdasarkan kolom nilai/angka, mengambil 10 baris dengan nilai terbesar, dan mereset index\n",
        "sorted_data = data.sort_values(by='jumlah_pembelian', ascending=False).head(10).reset_index(drop=True)\n",
        "\n",
        "# menyimpan data yang sudah disortir ke dalam file .csv baru\n",
        "sorted_data.to_csv('data1hasil_chart.csv', index=False)\n"
      ],
      "metadata": {
        "id": "2R6_74vAgTE7"
      },
      "execution_count": 34,
      "outputs": []
    },
    {
      "cell_type": "code",
      "source": [
        "# membaca data dari file .csv\n",
        "data = pd.read_csv('data1hasil_chart.csv')\n",
        "\n",
        "# menentukan kolom yang akan diterjemahkan ke dalam bar chart\n",
        "x = data['product_name']\n",
        "y = data['jumlah_pembelian']\n",
        "\n",
        "# membuat objek figure dengan ukuran yang lebih besar\n",
        "fig = plt.figure(figsize=(20, 10))\n",
        "\n",
        "# membuat bar chart\n",
        "plt.bar(data['product_name'], data['jumlah_pembelian'], width=0.5)\n",
        "\n",
        "# menambahkan label untuk sumbu x dan y\n",
        "plt.xlabel('Product Name')\n",
        "plt.ylabel('Jumlah Pembelian')\n",
        "\n",
        "# menambahkan judul untuk bar chart\n",
        "plt.title('Top 10 Barang YAng Paling Diminati')\n",
        "\n",
        "# memiringkan sumbu x\n",
        "plt.xticks(rotation=45)\n",
        "\n",
        "# menampilkan bar chart\n",
        "plt.show()\n"
      ],
      "metadata": {
        "colab": {
          "base_uri": "https://localhost:8080/",
          "height": 693
        },
        "id": "orwtxhDzdb0G",
        "outputId": "be5c9254-11f0-48d9-b0d7-85bb06fd4740"
      },
      "execution_count": 35,
      "outputs": [
        {
          "output_type": "display_data",
          "data": {
            "text/plain": [
              "<Figure size 1440x720 with 1 Axes>"
            ],
            "image/png": "[encoded data removed]"
          },
          "metadata": {
            "needs_background": "light"
          }
        }
      ]
    },
    {
      "cell_type": "code",
      "source": [
        "# membaca data dari file .csv\n",
        "df = pd.read_csv(\"data2_hasil.csv\")\n",
        "\n",
        "# mengelompokkan data kolom 1 berdasarkan kolom 2\n",
        "grouped = df.groupby('customer_city')['jumlah_pembelian'].sum()\n",
        "\n",
        "# menghitung persentase dari setiap kelompok\n",
        "grouped = grouped / grouped.sum() * 100\n",
        "\n",
        "# mengurutkan data dari yang terbesar\n",
        "grouped = grouped.sort_values(ascending=False)\n",
        "\n",
        "# mengambil 5 terbanyak\n",
        "grouped = grouped.head(5)\n",
        "\n",
        "# menyimpan data ke file .csv baru\n",
        "grouped.to_csv(\"data2hasil_chart.csv\")\n"
      ],
      "metadata": {
        "id": "pE-Jz-eCsX7V"
      },
      "execution_count": 36,
      "outputs": []
    },
    {
      "cell_type": "code",
      "source": [
        "# membaca data dari file .csv\n",
        "df = pd.read_csv(\"data2hasil_chart.csv\")\n",
        "\n",
        "# membuat plot pie chart\n",
        "plt.pie(df['jumlah_pembelian'], labels=df['customer_city'], startangle=90, counterclock=False,\n",
        "        autopct='%1.1f%%', shadow=True, textprops={'fontsize': 18})\n",
        "\n",
        "# memberikan title pada plot\n",
        "plt.title(\"5 Kota Dengan Penjualan Terbanyak\", fontsize=20)\n",
        "\n",
        "# mengatur ukuran plot\n",
        "plt.gcf().set_size_inches(10, 10)\n",
        "\n",
        "# menampilkan plot\n",
        "plt.show()\n"
      ],
      "metadata": {
        "colab": {
          "base_uri": "https://localhost:8080/",
          "height": 596
        },
        "id": "j2rKZ1u1q7uf",
        "outputId": "7fcc36d7-7100-4897-8dd8-eb20900aa20d"
      },
      "execution_count": 37,
      "outputs": [
        {
          "output_type": "display_data",
          "data": {
            "text/plain": [
              "<Figure size 720x720 with 1 Axes>"
            ],
            "image/png": "[encoded data removed]"
          },
          "metadata": {}
        }
      ]
    },
    {
      "cell_type": "code",
      "source": [
        "# membaca data dari file .csv\n",
        "df = pd.read_csv(\"data3_hasil.csv\")\n",
        "\n",
        "# membuat plot scatter\n",
        "plt.scatter(df['waktu'], df['rerata_skor'])\n",
        "\n",
        "# memberikan label pada sumbu x dan y\n",
        "plt.xlabel(\"Waktu\")\n",
        "plt.ylabel(\"Rerata Score\")\n",
        "\n",
        "# memberikan title pada plot\n",
        "plt.title(\"Hubungan Antara Score dari Review Dengan Lama Waktu Pembelanjaan\")\n",
        "\n",
        "# memperbesar ukuran gambar\n",
        "fig = plt.gcf()\n",
        "fig.set_size_inches(18, 10)\n",
        "\n",
        "# menambahkan garis grid\n",
        "plt.grid(True)\n",
        "\n",
        "# menambahkan interval per 10 pada sumbu x\n",
        "plt.xticks(range(0, 210, 10))\n",
        "\n",
        "# menampilkan plot\n",
        "plt.show()\n"
      ],
      "metadata": {
        "colab": {
          "base_uri": "https://localhost:8080/",
          "height": 621
        },
        "id": "JZSanCyZs9SA",
        "outputId": "bc063929-3713-4af2-a828-acda46f9f104"
      },
      "execution_count": 38,
      "outputs": [
        {
          "output_type": "display_data",
          "data": {
            "text/plain": [
              "<Figure size 1296x720 with 1 Axes>"
            ],
            "image/png": "[encoded data removed]"
          },
          "metadata": {
            "needs_background": "light"
          }
        }
      ]
    }
  ]
}